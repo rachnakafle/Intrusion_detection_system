{
  "nbformat": 4,
  "nbformat_minor": 0,
  "metadata": {
    "colab": {
      "provenance": []
    },
    "kernelspec": {
      "name": "python3",
      "display_name": "Python 3"
    },
    "language_info": {
      "name": "python"
    }
  },
  "cells": [
    {
      "cell_type": "code",
      "execution_count": null,
      "metadata": {
        "id": "TJnKJzRBDfqK"
      },
      "outputs": [],
      "source": [
        "import pandas as pd\n",
        "from sklearn.model_selection import train_test_split\n",
        "from sklearn.naive_bayes import GaussianNB\n",
        "from sklearn.svm import SVC\n",
        "from sklearn.neighbors import KNeighborsClassifier\n",
        "from sklearn.metrics import confusion_matrix, accuracy_score\n",
        "import matplotlib.pyplot as plt\n",
        "import seaborn as sns\n",
        "import time"
      ]
    },
    {
      "cell_type": "code",
      "source": [
        "# Step 1: Load the dataset\n",
        "data = pd.read_csv('/content/dataset.csv')"
      ],
      "metadata": {
        "id": "SBLTxZtYEtx4"
      },
      "execution_count": null,
      "outputs": []
    },
    {
      "cell_type": "code",
      "source": [
        "# Step 2: Extract information\n",
        "# Number of instances\n",
        "num_instances = data.shape[0]\n",
        "\n",
        "# Number of features\n",
        "num_features = data.shape[1] - 1  # Excluding the target column\n",
        "\n",
        "# Number of instances from each class (malware/benign)\n",
        "class_counts = data['classification'].value_counts()"
      ],
      "metadata": {
        "id": "1esWkeC9FM2d"
      },
      "execution_count": null,
      "outputs": []
    },
    {
      "cell_type": "code",
      "source": [
        "# Step 3: Perform EDA (Exploratory Data Analysis)\n",
        "# For example:\n",
        "print(\"\\nFirst few rows of the dataset:\")\n",
        "print(data.head())\n",
        "\n",
        "# Statistical summary of numerical columns\n",
        "print(\"\\nSummary statistics of numerical columns:\")\n",
        "print(data.describe())\n",
        "\n",
        "# Information about the dataset\n",
        "print(\"\\nInformation about the dataset:\")\n",
        "print(data.info())"
      ],
      "metadata": {
        "colab": {
          "base_uri": "https://localhost:8080/"
        },
        "id": "iISHLz6rG8Iw",
        "outputId": "97ebf278-fe65-46a1-b73c-44777b47d014"
      },
      "execution_count": null,
      "outputs": [
        {
          "output_type": "stream",
          "name": "stdout",
          "text": [
            "\n",
            "First few rows of the dataset:\n",
            "   millisecond classification  state  usage_counter        prio  static_prio  \\\n",
            "0            0        malware      0              0  3069378560        14274   \n",
            "1            1        malware      0              0  3069378560        14274   \n",
            "2            2        malware      0              0  3069378560        14274   \n",
            "3            3        malware      0              0  3069378560        14274   \n",
            "4            4        malware      0              0  3069378560        14274   \n",
            "\n",
            "   normal_prio  policy  vm_pgoff  vm_truncate_count  ...  nivcsw  min_flt  \\\n",
            "0            0       0         0              13173  ...       0        0   \n",
            "1            0       0         0              13173  ...       0        0   \n",
            "2            0       0         0              13173  ...       0        0   \n",
            "3            0       0         0              13173  ...       0        0   \n",
            "4            0       0         0              13173  ...       0        0   \n",
            "\n",
            "   maj_flt  fs_excl_counter        lock   utime  stime  gtime  cgtime  \\\n",
            "0      120                0  3204448256  380690      4      0       0   \n",
            "1      120                0  3204448256  380690      4      0       0   \n",
            "2      120                0  3204448256  380690      4      0       0   \n",
            "3      120                0  3204448256  380690      4      0       0   \n",
            "4      120                0  3204448256  380690      4      0       0   \n",
            "\n",
            "   signal_nvcsw  \n",
            "0             0  \n",
            "1             0  \n",
            "2             0  \n",
            "3             0  \n",
            "4             0  \n",
            "\n",
            "[5 rows x 34 columns]\n",
            "\n",
            "Summary statistics of numerical columns:\n",
            "         millisecond         state  usage_counter          prio  \\\n",
            "count  100000.000000  1.000000e+05       100000.0  1.000000e+05   \n",
            "mean      499.500000  1.577683e+05            0.0  3.069706e+09   \n",
            "std       288.676434  9.361726e+05            0.0  2.963061e+05   \n",
            "min         0.000000  0.000000e+00            0.0  3.069190e+09   \n",
            "25%       249.750000  0.000000e+00            0.0  3.069446e+09   \n",
            "50%       499.500000  0.000000e+00            0.0  3.069698e+09   \n",
            "75%       749.250000  4.096000e+03            0.0  3.069957e+09   \n",
            "max       999.000000  4.326605e+07            0.0  3.070222e+09   \n",
            "\n",
            "         static_prio  normal_prio    policy  vm_pgoff  vm_truncate_count  \\\n",
            "count  100000.000000     100000.0  100000.0  100000.0      100000.000000   \n",
            "mean    18183.900070          0.0       0.0       0.0       15312.739510   \n",
            "std      4609.792765          0.0       0.0       0.0        3256.475008   \n",
            "min     13988.000000          0.0       0.0       0.0        9695.000000   \n",
            "25%     14352.000000          0.0       0.0       0.0       12648.000000   \n",
            "50%     16159.000000          0.0       0.0       0.0       15245.000000   \n",
            "75%     22182.000000          0.0       0.0       0.0       17663.000000   \n",
            "max     31855.000000          0.0       0.0       0.0       27157.000000   \n",
            "\n",
            "       task_size  ...         nivcsw        min_flt        maj_flt  \\\n",
            "count   100000.0  ...  100000.000000  100000.000000  100000.000000   \n",
            "mean         0.0  ...      32.991160       2.053130     117.920240   \n",
            "std          0.0  ...      52.730176      13.881382       3.116892   \n",
            "min          0.0  ...       0.000000       0.000000     112.000000   \n",
            "25%          0.0  ...       1.000000       0.000000     114.000000   \n",
            "50%          0.0  ...       9.000000       1.000000     120.000000   \n",
            "75%          0.0  ...      46.000000       1.000000     120.000000   \n",
            "max          0.0  ...     365.000000     256.000000     120.000000   \n",
            "\n",
            "       fs_excl_counter          lock          utime          stime  \\\n",
            "count    100000.000000  1.000000e+05  100000.000000  100000.000000   \n",
            "mean          1.109190  3.204448e+09  385415.451970       4.059310   \n",
            "std           2.160466  0.000000e+00   10144.036494       0.822848   \n",
            "min           0.000000  3.204448e+09  371782.000000       3.000000   \n",
            "25%           0.000000  3.204448e+09  378208.000000       3.000000   \n",
            "50%           0.000000  3.204448e+09  383637.000000       4.000000   \n",
            "75%           1.000000  3.204448e+09  390324.000000       5.000000   \n",
            "max          18.000000  3.204448e+09  421913.000000       7.000000   \n",
            "\n",
            "              gtime    cgtime  signal_nvcsw  \n",
            "count  100000.00000  100000.0      100000.0  \n",
            "mean        1.66142       0.0           0.0  \n",
            "std         3.26304       0.0           0.0  \n",
            "min         0.00000       0.0           0.0  \n",
            "25%         0.00000       0.0           0.0  \n",
            "50%         0.00000       0.0           0.0  \n",
            "75%         1.00000       0.0           0.0  \n",
            "max        15.00000       0.0           0.0  \n",
            "\n",
            "[8 rows x 33 columns]\n",
            "\n",
            "Information about the dataset:\n",
            "<class 'pandas.core.frame.DataFrame'>\n",
            "RangeIndex: 100000 entries, 0 to 99999\n",
            "Data columns (total 34 columns):\n",
            " #   Column             Non-Null Count   Dtype \n",
            "---  ------             --------------   ----- \n",
            " 0   millisecond        100000 non-null  int64 \n",
            " 1   classification     100000 non-null  object\n",
            " 2   state              100000 non-null  int64 \n",
            " 3   usage_counter      100000 non-null  int64 \n",
            " 4   prio               100000 non-null  int64 \n",
            " 5   static_prio        100000 non-null  int64 \n",
            " 6   normal_prio        100000 non-null  int64 \n",
            " 7   policy             100000 non-null  int64 \n",
            " 8   vm_pgoff           100000 non-null  int64 \n",
            " 9   vm_truncate_count  100000 non-null  int64 \n",
            " 10  task_size          100000 non-null  int64 \n",
            " 11  cached_hole_size   100000 non-null  int64 \n",
            " 12  free_area_cache    100000 non-null  int64 \n",
            " 13  mm_users           100000 non-null  int64 \n",
            " 14  map_count          100000 non-null  int64 \n",
            " 15  hiwater_rss        100000 non-null  int64 \n",
            " 16  total_vm           100000 non-null  int64 \n",
            " 17  shared_vm          100000 non-null  int64 \n",
            " 18  exec_vm            100000 non-null  int64 \n",
            " 19  reserved_vm        100000 non-null  int64 \n",
            " 20  nr_ptes            100000 non-null  int64 \n",
            " 21  end_data           100000 non-null  int64 \n",
            " 22  last_interval      100000 non-null  int64 \n",
            " 23  nvcsw              100000 non-null  int64 \n",
            " 24  nivcsw             100000 non-null  int64 \n",
            " 25  min_flt            100000 non-null  int64 \n",
            " 26  maj_flt            100000 non-null  int64 \n",
            " 27  fs_excl_counter    100000 non-null  int64 \n",
            " 28  lock               100000 non-null  int64 \n",
            " 29  utime              100000 non-null  int64 \n",
            " 30  stime              100000 non-null  int64 \n",
            " 31  gtime              100000 non-null  int64 \n",
            " 32  cgtime             100000 non-null  int64 \n",
            " 33  signal_nvcsw       100000 non-null  int64 \n",
            "dtypes: int64(33), object(1)\n",
            "memory usage: 25.9+ MB\n",
            "None\n"
          ]
        }
      ]
    },
    {
      "cell_type": "code",
      "source": [
        "# Step 5: Split the dataset into training and testing sets\n",
        "X = data.drop('classification', axis=1)  # Features\n",
        "y = data['classification']  # Target variable\n",
        "\n",
        "# Splitting the data into training and testing sets\n",
        "X_train, X_test, y_train, y_test = train_test_split(X, y, test_size=0.2, random_state=42)"
      ],
      "metadata": {
        "id": "uTGPNik4IUgR"
      },
      "execution_count": null,
      "outputs": []
    },
    {
      "cell_type": "code",
      "source": [
        "# Step 6: Create machine learning classifiers\n",
        "nb_classifier = GaussianNB()\n",
        "svm_classifier = SVC()\n",
        "knn_classifier = KNeighborsClassifier()"
      ],
      "metadata": {
        "id": "9FuHBOHgIfDP"
      },
      "execution_count": null,
      "outputs": []
    },
    {
      "cell_type": "code",
      "source": [
        "# Step 7: Train the classifiers\n",
        "nb_classifier.fit(X_train, y_train)\n",
        "svm_start_time = time.time()\n",
        "svm_classifier.fit(X_train, y_train)\n",
        "svm_end_time = time.time()\n",
        "knn_start_time = time.time()\n",
        "knn_classifier.fit(X_train, y_train)\n",
        "knn_end_time = time.time()"
      ],
      "metadata": {
        "id": "9M_0-kz-IjBo"
      },
      "execution_count": null,
      "outputs": []
    },
    {
      "cell_type": "code",
      "source": [
        "# Step 8: Test the classifiers and generate confusion matrices\n",
        "classifiers = [nb_classifier, svm_classifier, knn_classifier]\n",
        "classifier_names = ['Naive Bayes', 'SVM', 'KNN']\n",
        "\n",
        "for classifier, name in zip(classifiers, classifier_names):\n",
        "    start_time = time.time()\n",
        "    y_pred = classifier.predict(X_test)\n",
        "    end_time = time.time()\n",
        "\n",
        "    processing_time = end_time - start_time\n",
        "    print(f\"\\n{classifier.__class__.__name__} processing time: {processing_time:.2f} seconds\")\n",
        "\n",
        "    cm = confusion_matrix(y_test, y_pred)\n",
        "    acc = accuracy_score(y_test, y_pred)\n",
        "    print(f\"\\nConfusion Matrix - {name}:\")\n",
        "    print(cm)\n",
        "    print(f\"\\nAccuracy - {name}: {acc:.2f}\")\n",
        "\n",
        "    # Plot confusion matrix\n",
        "    plt.figure(figsize=(8, 6))\n",
        "    sns.heatmap(cm, annot=True, fmt='d', cmap='Blues', cbar=False)\n",
        "    plt.xlabel('Predicted')\n",
        "    plt.ylabel('Actual')\n",
        "    plt.title(f'Confusion Matrix - {name}\\nAccuracy: {acc:.2f}')\n",
        "    plt.show()"
      ],
      "metadata": {
        "colab": {
          "base_uri": "https://localhost:8080/",
          "height": 1000
        },
        "id": "vusWCIWXMRaS",
        "outputId": "4483145b-6d77-4e99-bf8a-b0be9dae9fdc"
      },
      "execution_count": null,
      "outputs": [
        {
          "output_type": "stream",
          "name": "stdout",
          "text": [
            "\n",
            "GaussianNB processing time: 0.02 seconds\n",
            "\n",
            "Confusion Matrix - Naive Bayes:\n",
            "[[4048 5982]\n",
            " [1591 8379]]\n",
            "\n",
            "Accuracy - Naive Bayes: 0.62\n"
          ]
        },
        {
          "output_type": "display_data",
          "data": {
            "text/plain": [
              "<Figure size 800x600 with 1 Axes>"
            ],
            "image/png": "[encoded data removed]"
          },
          "metadata": {}
        },
        {
          "output_type": "stream",
          "name": "stdout",
          "text": [
            "\n",
            "SVC processing time: 128.67 seconds\n",
            "\n",
            "Confusion Matrix - SVM:\n",
            "[[    0 10030]\n",
            " [    0  9970]]\n",
            "\n",
            "Accuracy - SVM: 0.50\n"
          ]
        },
        {
          "output_type": "display_data",
          "data": {
            "text/plain": [
              "<Figure size 800x600 with 1 Axes>"
            ],
            "image/png": "[encoded data removed]"
          },
          "metadata": {}
        },
        {
          "output_type": "stream",
          "name": "stdout",
          "text": [
            "\n",
            "KNeighborsClassifier processing time: 41.54 seconds\n",
            "\n",
            "Confusion Matrix - KNN:\n",
            "[[10012    18]\n",
            " [   35  9935]]\n",
            "\n",
            "Accuracy - KNN: 1.00\n"
          ]
        },
        {
          "output_type": "display_data",
          "data": {
            "text/plain": [
              "<Figure size 800x600 with 1 Axes>"
            ],
            "image/png": "[encoded data removed]"
          },
          "metadata": {}
        }
      ]
    },
    {
      "cell_type": "code",
      "source": [
        "# Step 9: Compare the processing time among the models and discuss your recommendation\n",
        "nb_train_time = end_time - start_time  # Time taken to train Naive Bayes classifier\n",
        "svm_train_time = svm_end_time - svm_start_time  # Time taken to train SVM classifier\n",
        "knn_train_time = knn_end_time - knn_start_time  # Time taken to train KNN classifier\n",
        "\n",
        "print(\"\\nProcessing time comparison:\")\n",
        "print(f\"Naive Bayes training time: {nb_train_time:.2f} seconds\")\n",
        "print(f\"SVM training time: {svm_train_time:.2f} seconds\")\n",
        "print(f\"KNN training time: {knn_train_time:.2f} seconds\")\n",
        "\n",
        "# Based on the results, discuss recommendations for model selection, considering both performance and efficiency\n",
        "print(\"\\nRecommendations:\")\n",
        "print(\"Based on the accuracy and processing time, the Naive Bayes classifier shows promising results.\")\n",
        "print(\"However, if the dataset size increases significantly, the SVM classifier might be a better choice due to its efficient use of memory.\")"
      ],
      "metadata": {
        "id": "CmFgyfJ0P9Ud",
        "outputId": "35ab62fa-1a35-4f2e-d87c-cc4cc13c2ada",
        "colab": {
          "base_uri": "https://localhost:8080/"
        }
      },
      "execution_count": null,
      "outputs": [
        {
          "output_type": "stream",
          "name": "stdout",
          "text": [
            "\n",
            "Processing time comparison:\n",
            "Naive Bayes training time: 36.85 seconds\n",
            "SVM training time: 928.38 seconds\n",
            "KNN training time: 0.13 seconds\n",
            "\n",
            "Recommendations:\n",
            "Based on the accuracy and processing time, the Naive Bayes classifier shows promising results.\n",
            "However, if the dataset size increases significantly, the SVM classifier might be a better choice due to its efficient use of memory.\n"
          ]
        }
      ]
    }
  ]
}